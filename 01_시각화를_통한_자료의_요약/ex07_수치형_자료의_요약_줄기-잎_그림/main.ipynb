{
 "cells": [
  {
   "cell_type": "markdown",
   "metadata": {},
   "source": [
    "# 수치형 자료의 요약 : 줄기-잎 그림\n",
    "\n",
    "이번에는 실습1의 데이터에 추가로 이산형 자료인 주량 데이터 `drink_cup` 을 추가하겠습니다.\n",
    "\n",
    "아래의 지시사항을 따라 줄기-잎 그림을 그리는 코드를 추가하고, 실행 버튼을 눌러 데이터가 어떻게 출력되는지 확인해보세요!"
   ]
  },
  {
   "cell_type": "markdown",
   "metadata": {},
   "source": [
    "# 문제\n",
    "\n",
    "## 줄기-잎 그림\n",
    "주량데이터의 cup을 가지고 줄기-잎 그림을 그려보겠습니다.\n",
    "\n",
    "코드 입력창에 줄기-잎 그림을 그리는 코드를 입력해주세요.\n",
    "```python\n",
    "plt.stem(drink_cup[\"stems\"], drink_cup[\"cup\"])\n",
    "```\n",
    "히스토그램과 마찬가지로 어느 구간에 주량이 모여있는지에 대한 분포를 한 눈에 볼 수 있습니다!"
   ]
  },
  {
   "cell_type": "code",
   "execution_count": null,
   "metadata": {},
   "outputs": [],
   "source": [
    "import numpy as np\n",
    "import pandas as pd\n",
    "import matplotlib.pyplot as plt\n",
    "from elice_utils import EliceUtils \n",
    "elice_utils = EliceUtils()\n",
    "# 주량 데이터\n",
    "drink_cup = pd.DataFrame({\n",
    "    \"cup\": [22, 7, 19, 3, 10, 8, 19, 7, 15, 9, 35, 5], \n",
    "    \"who\": [\"A\", \"E\", \"D\", \"B\", \"C\", \"A\", \"A\", \"A\", \"D\", \"B\", \"C\", \"B\"],\n",
    "    \"stems\": [2, 0, 1, 0, 1, 0, 1, 0, 1, 0, 3, 0]\n",
    "})\n",
    "print(drink_cup)\n",
    "\n",
    "fig, ax = plt.subplots()\n",
    "\n",
    "# 줄기-잎 그림을 그리는 코드를 작성해 주세요\n",
    "\n",
    "\n",
    "# 그래프를 그리는 코드입니다. 수정하지 마세요.\n",
    "plt.show()\n",
    "fig.savefig(\"stem_plot.png\")\n",
    "elice_utils.send_image(\"stem_plot.png\")\n"
   ]
  },
  {
   "cell_type": "code",
   "execution_count": 1,
   "metadata": {},
   "outputs": [
    {
     "name": "stdout",
     "output_type": "stream",
     "text": [
      "    cup who  stems\n",
      "0    22   A      2\n",
      "1     7   E      0\n",
      "2    19   D      1\n",
      "3     3   B      0\n",
      "4    10   C      1\n",
      "5     8   A      0\n",
      "6    19   A      1\n",
      "7     7   A      0\n",
      "8    15   D      1\n",
      "9     9   B      0\n",
      "10   35   C      3\n",
      "11    5   B      0\n"
     ]
    },
    {
     "data": {
      "image/png": "[encoded data removed]",
      "text/plain": [
       "<Figure size 640x480 with 1 Axes>"
      ]
     },
     "metadata": {},
     "output_type": "display_data"
    }
   ],
   "source": [
    "import numpy as np\n",
    "import pandas as pd\n",
    "import matplotlib.pyplot as plt\n",
    "\n",
    "# 주량 데이터\n",
    "drink_cup = pd.DataFrame({\n",
    "    \"cup\": [22, 7, 19, 3, 10, 8, 19, 7, 15, 9, 35, 5], \n",
    "    \"who\": [\"A\", \"E\", \"D\", \"B\", \"C\", \"A\", \"A\", \"A\", \"D\", \"B\", \"C\", \"B\"],\n",
    "    \"stems\": [2, 0, 1, 0, 1, 0, 1, 0, 1, 0, 3, 0]\n",
    "})\n",
    "print(drink_cup)\n",
    "\n",
    "fig, ax = plt.subplots()\n",
    "\n",
    "# 줄기-잎 그림을 그리는 코드를 작성해 주세요\n",
    "plt.stem(drink_cup[\"stems\"], drink_cup[\"cup\"])\n",
    "\n",
    "# 그래프를 그리는 코드입니다. 수정하지 마세요.\n",
    "plt.show()\n",
    "fig.savefig(\"stem_plot.png\")\n"
   ]
  }
 ],
 "metadata": {
  "kernelspec": {
   "display_name": "Python 3",
   "language": "python",
   "name": "python3"
  },
  "language_info": {
   "codemirror_mode": {
    "name": "ipython",
    "version": 3
   },
   "file_extension": ".py",
   "mimetype": "text/x-python",
   "name": "python",
   "nbconvert_exporter": "python",
   "pygments_lexer": "ipython3",
   "version": "3.9.17"
  },
  "orig_nbformat": 4
 },
 "nbformat": 4,
 "nbformat_minor": 2
}
