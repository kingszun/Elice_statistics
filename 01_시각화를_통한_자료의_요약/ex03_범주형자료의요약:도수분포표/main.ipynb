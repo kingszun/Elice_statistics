{
 "cells": [
  {
   "cell_type": "markdown",
   "metadata": {},
   "source": [
    "# 범주형 자료의 요약 : 도수분포표\n",
    "\n",
    "범주형 자료를 효과적으로 요약할 수 있는 도수 분포표를 사용해보도록 하겠습니다.\n",
    "\n",
    "A, B, C, D, E 이 다섯 명이 주량을 가지고 서로 자신이 주량이 세다고 자랑을 하고 있어요! 하지만, 술자리에 참석한 횟수가 다들 달라서 공정한 대결을 할 수가 없다네요…\n",
    "\n",
    "술 자리에 참여한 빈도 데이터를 저장한 파일인 `drink.csv` 파일을 이용하여 누가 제일 술자리에 자주 나왔는지 확인해보아요!\n",
    "\n",
    "`drink.csv`파일은 두 가지 구성 요소가 있습니다.\n",
    "\n",
    "- Attend : 참석한 경우 1, 참석하지 않은 경우 0\n",
    "- 참석자의 이름"
   ]
  },
  {
   "cell_type": "markdown",
   "metadata": {},
   "source": [
    "# 문제\n",
    "\n",
    "범주형 자료의 도수분포표\n",
    "\n",
    "## 두 가지의 도수분포표를 만들어보겠습니다.\n",
    "\n",
    "도수분포표는 판다스의 `crosstab` 함수를 이용하여 만들 수 있고, `index`에는 행을, `columns`에는 열을 각각 지정해주면 됩니다.\n",
    "\n",
    "`crosstab` 함수의 사용 예시입니다.\n",
    "\n",
    "```python\n",
    "drink_tab = pd.crosstab(index = drink[\"Attend\"], columns = \"count\")\n",
    "```\n",
    "참석 여부를 `index`로 설정하고, 참석한 경우와 참석하지 않은 경우를 각각 `columns`로 삼아 도수분포표를 만들었습니다.\n",
    "\n",
    "## 참석 횟수만 계산하기\n",
    "\n",
    "참석자와 상관없이 도수를 계산하여 `drink_tab` 에 저장해보세요.\n",
    "`index`에 `drink[\"Attend\"]`, `columns`에 `\"count\"`를 넣어보세요.\n",
    "개인별 참석 횟수 확인하기\n",
    "\n",
    "누가 몇 번 참석했는지 도수를 계산하여 `drink_who` 에 저장해보세요.\n",
    "`index`에 `drink[\"Attend\"]`, `columns`에 `drink[\"Name\"]`를 넣어보세요."
   ]
  },
  {
   "cell_type": "code",
   "execution_count": 5,
   "metadata": {},
   "outputs": [
    {
     "name": "stdout",
     "output_type": "stream",
     "text": [
      "전체 참석 횟수를 확인하는 도수분포표\n",
      "col_0   count\n",
      "Attend       \n",
      "0          13\n",
      "1          12\n",
      "누가 몇 번 참석했는지 알 수 있는 도수분포표\n",
      "Name    A  B  C  D  E\n",
      "Attend               \n",
      "0       1  2  3  3  4\n",
      "1       4  3  2  2  1\n"
     ]
    }
   ],
   "source": [
    "import pandas as pd \n",
    "import numpy as np\n",
    "\n",
    "# drink 데이터\n",
    "drink = pd.read_csv(\"drink.csv\")\n",
    "\n",
    "# 전체 참석 횟수를 확인하는 도수분포표\n",
    "drink_tab = pd.crosstab(index = drink[\"Attend\"], columns = \"count\")\n",
    "\n",
    "print(\"전체 참석 횟수를 확인하는 도수분포표\")\n",
    "print(drink_tab)\n",
    "\n",
    "# 누가 몇 번 참석했는지 알 수 있는 도수분포표 \n",
    "drink_who = pd.crosstab(index = drink[\"Attend\"], columns = drink[\"Name\"])\n",
    "\n",
    "print(\"누가 몇 번 참석했는지 알 수 있는 도수분포표\")\n",
    "print(drink_who)"
   ]
  },
  {
   "cell_type": "code",
   "execution_count": null,
   "metadata": {},
   "outputs": [],
   "source": []
  }
 ],
 "metadata": {
  "kernelspec": {
   "display_name": "Python 3",
   "language": "python",
   "name": "python3"
  },
  "language_info": {
   "codemirror_mode": {
    "name": "ipython",
    "version": 3
   },
   "file_extension": ".py",
   "mimetype": "text/x-python",
   "name": "python",
   "nbconvert_exporter": "python",
   "pygments_lexer": "ipython3",
   "version": "3.9.17"
  },
  "orig_nbformat": 4
 },
 "nbformat": 4,
 "nbformat_minor": 2
}
