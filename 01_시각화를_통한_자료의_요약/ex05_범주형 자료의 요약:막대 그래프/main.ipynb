{
 "cells": [
  {
   "cell_type": "markdown",
   "metadata": {},
   "source": [
    "# 범주형 자료의 요약 : 막대 그래프\n",
    "\n",
    "실습1에서 계산했던 술자리 참석 빈도의 상대도수 비율을 한 눈에 보기 쉽도록 그래프를 그리겠습니다.\n",
    "\n",
    "앞선 실습의 결과를 통해 막대 그래프를 그려보겠습니다."
   ]
  },
  {
   "cell_type": "markdown",
   "metadata": {},
   "source": [
    "# 문제\n",
    "\n",
    "코드 에디터에서 주석으로 표시된 Q1를 찾아 해당 위치에 알맞은 코드를 입력해주세요.\n",
    "\n",
    "막대 그래프\n",
    "참석 비율(ratio)을 기준으로 막대그래프 막대의 크기를 다르게 하는 코드를 Q1에 입력하여 이를 그려보겠습니다.\n",
    "\n",
    "```python\n",
    "plt.bar(labels, ratio)\n",
    "```\n",
    "\n",
    "## Tips\n",
    "\n",
    "```plt.show()``` 함수는 만든 그래프를 보여주는 역할입니다.\n",
    "\n",
    "아래 코드는 엘리스 플랫폼에서 그림 파일을 출력하기 위한 코드입니다!\n",
    "```python\n",
    "fig.savefig(\"bar_plot.png\")\n",
    "elice_utils.send_image(\"bar_plot.png\")\n",
    "```"
   ]
  },
  {
   "cell_type": "code",
   "execution_count": 1,
   "metadata": {},
   "outputs": [
    {
     "data": {
      "image/png": "[encoded data removed]",
      "text/plain": [
       "<Figure size 640x480 with 1 Axes>"
      ]
     },
     "metadata": {},
     "output_type": "display_data"
    }
   ],
   "source": [
    "import matplotlib.pyplot as plt\n",
    "\n",
    "# 술자리 참석 상대도수 데이터 \n",
    "labels = [\"A\", \"B\", \"C\", \"D\", \"E\"]\n",
    "ratio = [33,25,17,17,8]\n",
    "\n",
    "# 막대 그래프\n",
    "fig, ax = plt.subplots()\n",
    "\n",
    "# Q1. 막대 그래프를 만드는 코드를 작성해 주세요\n",
    "plt.bar(labels, ratio)\n",
    "\n",
    "# 그래프를 그리는 코드입니다. 수정하지 마세요.\n",
    "plt.show()\n",
    "fig.savefig(\"bar_plot.png\")\n",
    "\n"
   ]
  }
 ],
 "metadata": {
  "kernelspec": {
   "display_name": "Python 3",
   "language": "python",
   "name": "python3"
  },
  "language_info": {
   "codemirror_mode": {
    "name": "ipython",
    "version": 3
   },
   "file_extension": ".py",
   "mimetype": "text/x-python",
   "name": "python",
   "nbconvert_exporter": "python",
   "pygments_lexer": "ipython3",
   "version": "3.9.17"
  },
  "orig_nbformat": 4
 },
 "nbformat": 4,
 "nbformat_minor": 2
}
