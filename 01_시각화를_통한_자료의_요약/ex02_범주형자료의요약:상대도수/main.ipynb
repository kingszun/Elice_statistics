{
 "cells": [
  {
   "cell_type": "markdown",
   "metadata": {},
   "source": [
    "범주형 자료의 요약 : 상대도수\n",
    "\n",
    "범주형 자료를 요약하기 위해 상대도수를 계산해보겠습니다.\n",
    "\n",
    "A, B, C, D, E 이 다섯 명이 주량을 가지고 서로 자신이 주량이 세다고 자랑을 하고 있어요! 하지만, 술자리에 참석한 횟수가 다들 달라서 공정한 대결을 할 수가 없다네요…\n",
    "\n",
    "술 자리에 참여한 빈도 데이터를 저장한 파일인 drink.csv 파일을 이용하여 누가 제일 술자리에 자주 나왔는지 확인해보아요!\n",
    "\n",
    "drink.csv파일은 두 가지 구성 요소가 있습니다.\n",
    "\n",
    "Attend : 참석한 경우 1, 참석하지 않은 경우 0\n",
    "참석자의 이름"
   ]
  },
  {
   "cell_type": "markdown",
   "metadata": {},
   "source": [
    "문제\n",
    "\n",
    "상대도수\n",
    "\n",
    "상대도수는 전체에서 도수의 비율을 계산한 값입니다.\n",
    "\n",
    "value_counts() 함수에 normalize=True 옵션을 주면 상대도수를 구할 수 있습니다.\n",
    "\n",
    "drink_relfreq = drink[drink[\"Attend\"] == 1][\"Name\"].value_counts(normalize=True)\n",
    "Copy\n",
    "도수를 계산한 코드를 9번째 줄의 변수 drink_relfreq 에 저장해보세요."
   ]
  },
  {
   "cell_type": "code",
   "execution_count": 1,
   "metadata": {},
   "outputs": [
    {
     "name": "stdout",
     "output_type": "stream",
     "text": [
      "상대도수 계산\n",
      "Name\n",
      "A    0.333333\n",
      "B    0.250000\n",
      "C    0.166667\n",
      "D    0.166667\n",
      "E    0.083333\n",
      "Name: proportion, dtype: float64\n"
     ]
    }
   ],
   "source": [
    "import pandas as pd \n",
    "import numpy as np\n",
    "\n",
    "# drink 데이터\n",
    "drink = pd.read_csv(\"drink.csv\")\n",
    "\n",
    "# 상대도수 계산\n",
    "drink_relfreq = drink_relfreq = drink[drink[\"Attend\"] == 1][\"Name\"].value_counts(normalize=True)\n",
    "\n",
    "print(\"상대도수 계산\")\n",
    "print(drink_relfreq)"
   ]
  },
  {
   "cell_type": "code",
   "execution_count": null,
   "metadata": {},
   "outputs": [],
   "source": []
  }
 ],
 "metadata": {
  "kernelspec": {
   "display_name": "Python 3",
   "language": "python",
   "name": "python3"
  },
  "language_info": {
   "codemirror_mode": {
    "name": "ipython",
    "version": 3
   },
   "file_extension": ".py",
   "mimetype": "text/x-python",
   "name": "python",
   "nbconvert_exporter": "python",
   "pygments_lexer": "ipython3",
   "version": "3.9.17"
  },
  "orig_nbformat": 4
 },
 "nbformat": 4,
 "nbformat_minor": 2
}
