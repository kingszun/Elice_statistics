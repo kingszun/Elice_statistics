{
 "cells": [
  {
   "cell_type": "markdown",
   "metadata": {},
   "source": [
    "# 중심위치의 측도 : 평균\n",
    "\n",
    "연속형 자료의 요약 중 중심위치의 측도를 나타내주는 요약통계량인 평균을 계산해보겠습니다.\n",
    "\n",
    "피곤할 때 많이 찾게되는 커피, 커피 전문점 마다 같은 Tall 사이즈라도 카페인 함량(mg/cup)이 다르다는 것, 알고 계셨나요?\n",
    "\n",
    "|카페|\t카페인 함량|\t카페|\t카페인 함량|\n",
    "|---|---|---|---|\n",
    "|커빈피|\t202|\t빽방다|\t177|\n",
    "|스벅타스|\t121|\t할스리|\t148|\n",
    "|디야이\t|89\t|동네카페|\t121|\n",
    "|투썸플이레스|\t137|\t엔제너리스|\t|158|\n"
   ]
  },
  {
   "cell_type": "markdown",
   "metadata": {},
   "source": [
    "# 문제\n",
    "\n",
    "평균(Mean)\n",
    "과연 커피 한 잔 당 평균적으로 얼마나 카페인이 들어있을까요?\n",
    "산술평균을 계산해서 cf_mean 에 저장해서 확인해보아요!\n",
    "\n",
    "```python\n",
    "cf_mean = np.mean(coffee)\n",
    "```"
   ]
  },
  {
   "cell_type": "code",
   "execution_count": 4,
   "metadata": {},
   "outputs": [
    {
     "name": "stdout",
     "output_type": "stream",
     "text": [
      "Mean : 144.12\n"
     ]
    }
   ],
   "source": [
    "import numpy as np\n",
    "from scipy import stats\n",
    "\n",
    "coffee = np.array([202, 177, 121, 148, 89, 121, 137, 158])\n",
    "\n",
    "# 평균 계산\n",
    "cf_mean = np.mean(coffee)\n",
    "print(\"Mean :\", round(cf_mean, 2))"
   ]
  },
  {
   "cell_type": "markdown",
   "metadata": {},
   "source": [
    "문제\n",
    "\n",
    "중앙값(Median)\n",
    "카페인 함량이 딱 중간에 위치한 커피의 카페인 함량은 얼마일까요? 중앙값을 계산하여 cf_median 에 저장해 확인해보겠습니다.\n",
    "```python\n",
    "cf_median = np.median(coffee)\n",
    "```"
   ]
  },
  {
   "cell_type": "code",
   "execution_count": 5,
   "metadata": {},
   "outputs": [
    {
     "name": "stdout",
     "output_type": "stream",
     "text": [
      "Median : 142.5\n"
     ]
    }
   ],
   "source": [
    "import numpy as np\n",
    "from scipy import stats\n",
    "\n",
    "coffee = np.array([202, 177, 121, 148, 89, 121, 137, 158])\n",
    "\n",
    "# 중앙값 계산\n",
    "cf_median = np.median(coffee)\n",
    "print(\"Median :\", round(cf_median, 2))\n"
   ]
  },
  {
   "cell_type": "markdown",
   "metadata": {},
   "source": [
    "문제\n",
    "\n",
    "최빈값(Mode)\n",
    "그럼 카페에서 가장 많이 사용하는 카페인 함량은 어느정도인지 알아볼까요? 최빈값을 계산하여 cf_mode 에 저장해 확인해보겠습니다.\n",
    "```python\n",
    "cf_mode = stats.mode(coffee)\n",
    "```\n",
    "+최빈값은 출력할 때 [0][0] 을 추가해주어야 결과값이 나옵니다.\n",
    "\n",
    "cf_mode[x][y]에서 cf_mode[x]에는 ‘데이터’가 들어 있고, cf_mode[y]에는 ‘데이터의 빈도 수’가 들어 있습니다.\n",
    "```python\n",
    "print(\"Mode :\", cf_mode[0][0])\n",
    "```"
   ]
  },
  {
   "cell_type": "code",
   "execution_count": 10,
   "metadata": {},
   "outputs": [
    {
     "name": "stdout",
     "output_type": "stream",
     "text": [
      "Mode : 2\n"
     ]
    }
   ],
   "source": [
    "import numpy as np\n",
    "from scipy import stats\n",
    "\n",
    "coffee = np.array([202, 177, 121, 148, 89, 121, 137, 158])\n",
    "\n",
    "# 최빈값 계산\n",
    "cf_mode = stats.mode(coffee)\n",
    "print(\"Mode :\", cf_mode[1])\n"
   ]
  },
  {
   "cell_type": "markdown",
   "metadata": {},
   "source": [
    "문제\n",
    "\n",
    "분산(Variance)\n",
    "표본평균을 중심으로 관측값이 얼마나 퍼져있는지에 대한 정도인 분산으로 카페인의 퍼진 정도를 알아보아요!\n",
    "분산을 계산해서 cf_var 에 저장해서 확인해보아요!\n",
    "```python\n",
    "cf_var = variance(coffee)\n",
    "```"
   ]
  },
  {
   "cell_type": "code",
   "execution_count": 11,
   "metadata": {},
   "outputs": [
    {
     "name": "stdout",
     "output_type": "stream",
     "text": [
      "Simple Variance : 1256\n"
     ]
    }
   ],
   "source": [
    "from statistics import variance, stdev\n",
    "import numpy as np\n",
    "\n",
    "coffee = np.array([202, 177, 121, 148, 89, 121, 137, 158])\n",
    "\n",
    "# 분산 계산\n",
    "cf_var = variance(coffee)\n",
    "print(\"Simple Variance :\", round(cf_var, 2))\n"
   ]
  },
  {
   "cell_type": "markdown",
   "metadata": {},
   "source": [
    "문제\n",
    "\n",
    "표준편차(Standard Deviation)\n",
    "그럼 표준화한 퍼진 정도는 어떻게 될까요? 표준편차를 계산하여 cf_std 에 저장해 확인해보겠습니다.\n",
    "```python\n",
    "cf_std = stdev(coffee)\n",
    "```"
   ]
  },
  {
   "cell_type": "code",
   "execution_count": 12,
   "metadata": {},
   "outputs": [
    {
     "name": "stdout",
     "output_type": "stream",
     "text": [
      "Sample std.Dev :  35.44\n"
     ]
    }
   ],
   "source": [
    "from statistics import variance, stdev\n",
    "import numpy as np\n",
    "\n",
    "coffee = np.array([202, 177, 121, 148, 89, 121, 137, 158])\n",
    "\n",
    "# 표준편차 계산\n",
    "cf_std = stdev(coffee)\n",
    "print(\"Sample std.Dev : \", round(cf_std, 2))\n"
   ]
  },
  {
   "cell_type": "markdown",
   "metadata": {},
   "source": [
    "문제\n",
    "\n",
    "범위(Range)\n",
    "카페인 함량의 가장 큰 값과 작은 값의 차이를 알아볼까요? 범위를 계산하여 cf_range 에 저장해 확인해보겠습니다.\n",
    "```python\n",
    "cf_range = np.max(coffee, axis=0) - np.min(coffee, axis=0)\n",
    "```"
   ]
  },
  {
   "cell_type": "code",
   "execution_count": 13,
   "metadata": {},
   "outputs": [
    {
     "name": "stdout",
     "output_type": "stream",
     "text": [
      "Range : 113\n"
     ]
    }
   ],
   "source": [
    "from statistics import variance, stdev\n",
    "import numpy as np\n",
    "\n",
    "coffee = np.array([202, 177, 121, 148, 89, 121, 137, 158])\n",
    "\n",
    "# 범위 계산\n",
    "cf_range = np.max(coffee, axis=0) - np.min(coffee, axis=0)\n",
    "print(\"Range :\", cf_range)\n"
   ]
  },
  {
   "cell_type": "markdown",
   "metadata": {},
   "source": [
    "문제\n",
    "\n",
    "백분위수\n",
    "그럼 카페인 함량의 백분위수와 사분위수를 계산하여 20%, 80%의 백분위수를 알아볼까요?\n",
    "백분위수를 계산하여 cf_quant_20, cf_quant_80에 저장해 확인해보겠습니다.\n",
    "```python\n",
    "cf_quant_20 = np.percentile(coffee, 20)\n",
    "cf_quant_80 = np.percentile(coffee, 80)\n",
    "```"
   ]
  },
  {
   "cell_type": "code",
   "execution_count": 14,
   "metadata": {},
   "outputs": [
    {
     "name": "stdout",
     "output_type": "stream",
     "text": [
      "20 Quantiles :  121.0\n",
      "80 Quantiles :  169.4\n"
     ]
    }
   ],
   "source": [
    "from statistics import variance, stdev\n",
    "import numpy as np\n",
    "\n",
    "coffee = np.array([202, 177, 121, 148, 89, 121, 137, 158])\n",
    "\n",
    "# 백분위수\n",
    "cf_quant_20 = np.percentile(coffee, 20)\n",
    "cf_quant_80 = np.percentile(coffee, 80)\n",
    "print(\"20 Quantiles : \", cf_quant_20)\n",
    "print(\"80 Quantiles : \", cf_quant_80)\n"
   ]
  },
  {
   "cell_type": "markdown",
   "metadata": {},
   "source": [
    "문제\n",
    "\n",
    "사분위수 범위\n",
    "25%, 75% 값인 1,3 사분위수를 계산하여 사분위수 범위인 IQR 을 계산해보겠습니다. 사분위수 범위를 계산하여 cf_IQR에 저장해 확인해보겠습니다.\n",
    "```python\n",
    "q75, q25 = np.percentile(coffee, [75, 25])\n",
    "```"
   ]
  },
  {
   "cell_type": "code",
   "execution_count": 15,
   "metadata": {},
   "outputs": [
    {
     "name": "stdout",
     "output_type": "stream",
     "text": [
      "Inter quartile range: 41.75\n"
     ]
    }
   ],
   "source": [
    "from statistics import variance, stdev\n",
    "import numpy as np\n",
    "\n",
    "coffee = np.array([202, 177, 121, 148, 89, 121, 137, 158])\n",
    "\n",
    "#IQR \n",
    "q75, q25 = np.percentile(coffee, [75, 25])\n",
    "cf_IQR = q75 - q25\n",
    "print(\"Inter quartile range:\", cf_IQR)\n"
   ]
  },
  {
   "cell_type": "markdown",
   "metadata": {},
   "source": [
    "문제\n",
    "\n",
    "변동계수\n",
    "상대적으로 퍼진 정도를 나타내는 수치인 변동계수를 계산해보겠습니다. 여기서 단위는 모두 같지만, 다를 때도 사용 가능합니다.\n",
    "변동계수를 계산하여 cf_cv 에 저장해 확인해보겠습니다.\n",
    "```python\n",
    "cf_cv = stdev(coffee) / np.mean(coffee)\n",
    "```"
   ]
  },
  {
   "cell_type": "code",
   "execution_count": 16,
   "metadata": {},
   "outputs": [
    {
     "name": "stdout",
     "output_type": "stream",
     "text": [
      "CV: 0.25\n"
     ]
    }
   ],
   "source": [
    "from statistics import variance, stdev\n",
    "import numpy as np\n",
    "\n",
    "coffee = np.array([202, 177, 121, 148, 89, 121, 137, 158])\n",
    "\n",
    "# CV\n",
    "cf_cv = stdev(coffee)/np.mean(coffee)\n",
    "cf_cv = round(cf_cv, 2)\n",
    "print(\"CV:\", cf_cv)\n"
   ]
  },
  {
   "cell_type": "markdown",
   "metadata": {},
   "source": []
  },
  {
   "cell_type": "markdown",
   "metadata": {},
   "source": [
    "수치형 자료의 요약 : 도수분포표\n",
    "\n",
    "주량 데이터 `drink_cup`의 도수분포표를 그려보도록 하겠습니다.\n",
    "\n",
    "1장에서는 참석 여부를 나타내는 범주형 자료의 도수분포표를 그렸었는데요,\n",
    "\n",
    "이번에는 수치형 자료인 “주량”으로 도수분포표를 그려보도록 하겠습니다.\n",
    "\n",
    "우선 print 문을 사용해서 데이터를 출력해 확인해보세요."
   ]
  },
  {
   "cell_type": "markdown",
   "metadata": {},
   "source": [
    "1) 도수분포표\n",
    "연속형 자료로 도수분포표를 만드려면 우선 구간을 나눠야 합니다. 이 구간을 계급이라고도 부릅니다. 저희는 주량 데이터를 4그룹으로 나눠보겠습니다.\n",
    "\n",
    "1. `factor_cup`에 `drink_cup` 데이터의 cup으로 4개 범위를 쪼개어 저장해보겠습니다.\n",
    "    ```python\n",
    "    factor_cup = pd.cut(drink_cup.cup, 4)\n",
    "    ```\n",
    "2. 1)의 factor_cup 으로 그룹을 만들어 group_cup 에 저장해보겠습니다.\n",
    "    ```python\n",
    "    group_cup = drink_cup[\"cup\"].groupby(factor_cup)\n",
    "    ```\n",
    "3. 이 그룹별로 도수를 계산해 count_cup 에 저장해 출력해보겠습니다.\n",
    "    ```python\n",
    "    count_cup = group_cup.agg([\"count\"])\n",
    "    ```"
   ]
  },
  {
   "cell_type": "code",
   "execution_count": 19,
   "metadata": {},
   "outputs": [
    {
     "name": "stdout",
     "output_type": "stream",
     "text": [
      "    cup who\n",
      "0    22   A\n",
      "1     7   E\n",
      "2    19   D\n",
      "3     3   B\n",
      "4    10   C\n",
      "5     8   A\n",
      "6    19   A\n",
      "7     7   A\n",
      "8    15   D\n",
      "9     9   B\n",
      "10   35   C\n",
      "11    5   B\n",
      "0      (19.0, 27.0]\n",
      "1     (2.968, 11.0]\n",
      "2      (11.0, 19.0]\n",
      "3     (2.968, 11.0]\n",
      "4     (2.968, 11.0]\n",
      "5     (2.968, 11.0]\n",
      "6      (11.0, 19.0]\n",
      "7     (2.968, 11.0]\n",
      "8      (11.0, 19.0]\n",
      "9     (2.968, 11.0]\n",
      "10     (27.0, 35.0]\n",
      "11    (2.968, 11.0]\n",
      "Name: cup, dtype: category\n",
      "Categories (4, interval[float64, right]): [(2.968, 11.0] < (11.0, 19.0] < (19.0, 27.0] < (27.0, 35.0]]\n",
      "<pandas.core.groupby.generic.SeriesGroupBy object at 0xffff57fb7610>\n",
      "               count\n",
      "cup                 \n",
      "(2.968, 11.0]      7\n",
      "(11.0, 19.0]       3\n",
      "(19.0, 27.0]       1\n",
      "(27.0, 35.0]       1\n"
     ]
    }
   ],
   "source": [
    "import numpy as np\n",
    "import pandas as pd\n",
    "\n",
    "# 주량 데이터\n",
    "drink_cup = pd.DataFrame({\n",
    "    \"cup\": [22, 7, 19, 3, 10, 8, 19, 7, 15, 9, 35, 5], \n",
    "    \"who\": [\"A\", \"E\", \"D\", \"B\", \"C\", \"A\", \"A\", \"A\", \"D\", \"B\", \"C\", \"B\"]\n",
    "})\n",
    "\n",
    "print(drink_cup)\n",
    "\n",
    "# 도수분포표\n",
    "factor_cup = pd.cut(drink_cup.cup, 4)\n",
    "print(factor_cup)\n",
    "group_cup = drink_cup[\"cup\"].groupby(factor_cup)\n",
    "print(group_cup)\n",
    "count_cup = group_cup.agg([\"count\"])\n",
    "\n",
    "print(count_cup)\n"
   ]
  },
  {
   "cell_type": "markdown",
   "metadata": {},
   "source": [
    "문제\n",
    "\n",
    "상자 그림을 만들어 출력해보세요.\n",
    "```python\n",
    "plt.boxplot(coffee)\n",
    "```\n",
    "Tips\n",
    "\n",
    "여러 그룹으로 각각의 그룹별 상자그림도 한 번에 그릴 수 있습니다. 이를 통하여 각 그룹을 비교해보세요!"
   ]
  },
  {
   "cell_type": "code",
   "execution_count": 20,
   "metadata": {},
   "outputs": [
    {
     "data": {
      "image/png": "[encoded data removed]",
      "text/plain": [
       "<Figure size 640x480 with 1 Axes>"
      ]
     },
     "metadata": {},
     "output_type": "display_data"
    }
   ],
   "source": [
    "import numpy as np\n",
    "import matplotlib.pyplot as plt\n",
    "\n",
    "#카페인 함유량\n",
    "coffee = np.array([202, 177, 121, 148, 89, 121, 137, 158])\n",
    "\n",
    "#상자그림\n",
    "fig, ax = plt.subplots()\n",
    "\n",
    "# 여기에 코드를 작성해주세요\n",
    "plt.boxplot(coffee)\n",
    "\n",
    "# 그래프를 그리는 코드입니다. 수정하지 마세요.\n",
    "plt.show()\n",
    "fig.savefig(\"box_plot.png\")\n"
   ]
  },
  {
   "cell_type": "markdown",
   "metadata": {},
   "source": [
    "두 범주형 변수의 요약 : 분할표\n",
    "\n",
    "두 범주형 변수를 요약할 수 있는 분할표를 만들어보겠습니다.\n",
    "`mart.csv`데이터에는 거주 지역`region`, 가족 구성원 수 `family_num`, 마트명 `mart` 이 있습니다.\n",
    "이를 활용하여 지역별로 선호하는 마트, 가족구성원의 수별로 선호하는 마트에 대해 알아보겠습니다."
   ]
  },
  {
   "cell_type": "markdown",
   "metadata": {},
   "source": [
    "지역별로 선호하는 마트\n",
    "지역별로 어느 마트를 선호하는지 확인하기 위해 분할표를 만들어`region_crosstab` 에 저장해 확인해보겠습니다.\n",
    "```python\n",
    "region_crosstab = pd.crosstab(mart[\"region\"], mart[\"mart\"])\n",
    "```\n",
    "가족구성원의 수별로 선호하는 마트\n",
    "가족구성원의 수에 따라 어느 마트를 선호하는지 확인하기 위해 분할표를 만들어 #Q2 아래에 `famnum_crosstab` 에 저장해 확인해보겠습니다.\n",
    "```python\n",
    "famnum_crosstab = pd.crosstab(mart[\"family_num\"], mart[\"mart\"])\n",
    "```"
   ]
  },
  {
   "cell_type": "code",
   "execution_count": 23,
   "metadata": {},
   "outputs": [
    {
     "name": "stdout",
     "output_type": "stream",
     "text": [
      "    index       region  family_num      mart\n",
      "0       1   gyeongsang           2     lotte\n",
      "1       2      gangwon           2     lotte\n",
      "2       3      gyonggi           2     emart\n",
      "3       4   gyeongsang           3     lotte\n",
      "4       5  chungcheong           4  homeplus\n",
      "5       6  chungcheong           1    costco\n",
      "6       7        seoul           4    costco\n",
      "7       8       jeolla           1  homeplus\n",
      "8       9        seoul           3  homeplus\n",
      "9      10  chungcheong           4     emart\n",
      "10     11      gyonggi           2     emart\n",
      "11     12      gangwon           2  homeplus\n",
      "12     13   gyeongsang           5     lotte\n",
      "13     14  chungcheong           5    costco\n",
      "14     15      gangwon           2  homeplus\n",
      "15     16        seoul           3  homeplus\n",
      "16     17       jeolla           3    costco\n",
      "17     18      gyonggi           1  homeplus\n",
      "18     19       jeolla           2  homeplus\n",
      "19     20       jeolla           4    costco\n",
      "20     21      gyonggi           4     emart\n",
      "21     22       jeolla           3     emart\n",
      "22     23      gangwon           1     emart\n",
      "23     24        seoul           4     emart\n",
      "24     25  chungcheong           3    costco\n",
      "25     26      gyonggi           2     emart\n",
      "26     27      gangwon           3  homeplus\n",
      "27     28      gyonggi           5     lotte\n",
      "28     29      gyonggi           2     lotte\n",
      "29     30      gangwon           5     emart\n",
      "30     31       jeolla           4  homeplus\n",
      "31     32        seoul           1  homeplus\n",
      "32     33  chungcheong           2     lotte\n",
      "33     34        seoul           2    costco\n",
      "34     35      gangwon           1     emart\n",
      "35     36      gangwon           2    costco\n",
      "36     37      gangwon           3     lotte\n",
      "37     38       jeolla           5     emart\n",
      "38     39        seoul           4     lotte\n",
      "39     40      gyonggi           1  homeplus\n",
      "40     41   gyeongsang           4     lotte\n",
      "41     42   gyeongsang           4  homeplus\n",
      "42     43   gyeongsang           4     lotte\n",
      "43     44  chungcheong           1     emart\n",
      "44     45   gyeongsang           5     lotte\n",
      "45     46   gyeongsang           2     lotte\n",
      "46     47   gyeongsang           1  homeplus\n",
      "47     48        seoul           1     emart\n",
      "48     49   gyeongsang           2     emart\n",
      "49     50      gyonggi           1     lotte\n",
      "mart         costco  emart  homeplus  lotte\n",
      "region                                     \n",
      "chungcheong       3      2         1      1\n",
      "gangwon           1      3         3      2\n",
      "gyeongsang        0      1         2      7\n",
      "gyonggi           0      4         2      3\n",
      "jeolla            2      2         3      0\n",
      "seoul             2      2         3      1\n",
      "mart        costco  emart  homeplus  lotte\n",
      "family_num                                \n",
      "1                1      4         5      1\n",
      "2                2      4         3      5\n",
      "3                2      1         3      2\n",
      "4                2      3         3      3\n",
      "5                1      2         0      3\n"
     ]
    }
   ],
   "source": [
    "import numpy as np \n",
    "import pandas as pd\n",
    "import matplotlib as plt\n",
    "\n",
    "# 데이터 불러오기\n",
    "mart = pd.read_csv(\"mart.csv\")\n",
    "print(mart)\n",
    "\n",
    "# Q1.지역별로 선호하는 마트\n",
    "region_crosstab = pd.crosstab(mart[\"region\"], mart[\"mart\"])\n",
    "print(region_crosstab)\n",
    "\n",
    "# Q2. 가족구성원의 수별로 선호하는 마트\n",
    "famnum_crosstab = pd.crosstab(mart[\"family_num\"], mart[\"mart\"])\n",
    "print(famnum_crosstab)\n"
   ]
  },
  {
   "cell_type": "markdown",
   "metadata": {},
   "source": [
    "두 수치형 변수의 요약 : 산점도\n",
    "\n",
    "`body.csv` 파일에는 한 사람의 20년 신체 기록이 담겨있습니다. 키`height`, 몸무게 `weight`, 골격근량 `muscle_mass`, 체지방량 `body_fat` , 다리길이 `leglen`, 모발 `hair` 이 들어있습니다.\n",
    "\n",
    "이를 가지고 두 연속형 변수의 관계를 요약해보겠습니다. 가장 직관적이고 한눈에 상관계수를 파악할 수 있는 산점도를 그려보겠습니다."
   ]
  },
  {
   "cell_type": "markdown",
   "metadata": {},
   "source": [
    "키와 몸무게의 관계\n",
    "스크립트의 Q1 1-1에 키와 몸무게와의 관계를 볼 수 있는 산점도 코드를 작성하여 그려보세요.\n",
    "\n",
    "```python\n",
    "plt.scatter(body[\"height\"], body[\"weight\"])\n",
    "```\n",
    "키와 체지방량의 관계\n",
    "이를 응용하여 스크립트의 Q1 1-2에 키와 체지방량의 관계를 볼 수 있는 산점도 코드를 작성하여 그려보세요.\n",
    "\n",
    "키와 다리길이의 관계\n",
    "스크립트의 Q1 1-3에 키와 다리길이의 관계를 볼 수 있는 산점도 코드를 작성하여 그려보세요.\n",
    "\n",
    "키와 모발의 관계\n",
    "스크립트의 Q1 1-4에 키와 모발의 관계를 볼 수 있는 산점도 코드를 작성하여 그려보세요."
   ]
  },
  {
   "cell_type": "code",
   "execution_count": 25,
   "metadata": {},
   "outputs": [
    {
     "data": {
      "image/png": "[encoded data removed]",
      "text/plain": [
       "<Figure size 640x480 with 1 Axes>"
      ]
     },
     "metadata": {},
     "output_type": "display_data"
    },
    {
     "data": {
      "image/png": "[encoded data removed]",
      "text/plain": [
       "<Figure size 640x480 with 1 Axes>"
      ]
     },
     "metadata": {},
     "output_type": "display_data"
    },
    {
     "data": {
      "image/png": "[encoded data removed]",
      "text/plain": [
       "<Figure size 640x480 with 1 Axes>"
      ]
     },
     "metadata": {},
     "output_type": "display_data"
    },
    {
     "data": {
      "image/png": "[encoded data removed]",
      "text/plain": [
       "<Figure size 640x480 with 1 Axes>"
      ]
     },
     "metadata": {},
     "output_type": "display_data"
    }
   ],
   "source": [
    "import matplotlib.pyplot as plt\n",
    "import pandas as pd\n",
    "\n",
    "# body.csv 읽어오기 \n",
    "body = pd.read_csv(\"body.csv\")\n",
    "\n",
    "# Q1. 산점도 \n",
    "# 1-1 키와 몸무게간 산점도 \n",
    "fig, ax = plt.subplots()\n",
    "\n",
    "# 여기에 코드를 작성해 주세요\n",
    "plt.scatter(body[\"height\"], body[\"weight\"])\n",
    "\n",
    "# 그래프를 그리는 코드입니다. 수정하지 마세요.\n",
    "plt.show()\n",
    "fig.savefig(\"height_weight_plot.png\")\n",
    "\n",
    "# 1-2 키와 체지방량 산점도 \n",
    "fig, ax = plt.subplots()\n",
    "\n",
    "# 여기에 코드를 작성해 주세요\n",
    "plt.scatter(body[\"height\"], body[\"body_fat\"])\n",
    "\n",
    "\n",
    "# 그래프를 그리는 코드입니다. 수정하지 마세요.\n",
    "plt.show()\n",
    "fig.savefig(\"height_fat_plot.png\")\n",
    "\n",
    "# 1-3 키와 다리길이 산점도 \n",
    "fig, ax = plt.subplots()\n",
    "\n",
    "# 여기에 코드를 작성해 주세요\n",
    "plt.scatter(body[\"height\"], body[\"leglen\"])\n",
    "\n",
    "\n",
    "# 그래프를 그리는 코드입니다. 수정하지 마세요.\n",
    "plt.show()\n",
    "fig.savefig(\"height_leglen_plot.png\")\n",
    "\n",
    "# 1-4 키와 모발 산점도 \n",
    "fig, ax = plt.subplots()\n",
    "\n",
    "# 여기에 코드를 작성해 주세요\n",
    "plt.scatter(body[\"height\"], body[\"hair\"])\n",
    "\n",
    "\n",
    "# 그래프를 그리는 코드입니다. 수정하지 마세요.\n",
    "plt.show()\n",
    "fig.savefig(\"height_hair_plot.png\")\n"
   ]
  },
  {
   "cell_type": "markdown",
   "metadata": {},
   "source": [
    "두 수치형 변수의 요약 : 공분산\n",
    "\n",
    "body.csv 파일에는 한 사람의 20년 신체 기록이 담겨있습니다. 키`height`, 몸무게 `weight`, 골격근량 `muscle_mass`, 체지방량 `body_fat` , 다리길이 `leglen`, 모발 `hair` 이 들어있습니다.\n",
    "\n",
    "산점도에서 본 직관적인 관계가 맞는지 직접 수치로 계산하여 공분산으로 판단해보겠습니다."
   ]
  },
  {
   "cell_type": "code",
   "execution_count": 27,
   "metadata": {},
   "outputs": [
    {
     "name": "stdout",
     "output_type": "stream",
     "text": [
      "                 height       weight  muscle_mass   body_fat     leglen  \\\n",
      "height       142.050000    44.607316    11.784461  32.980749  92.332500   \n",
      "weight        44.607316  1144.833587     8.641430  34.839548  28.994755   \n",
      "muscle_mass   11.784461     8.641430    39.819721 -31.334680   7.659900   \n",
      "body_fat      32.980749    34.839548   -31.334680  76.991671  21.437487   \n",
      "leglen        92.332500    28.994755     7.659900  21.437487  60.016125   \n",
      "hair          -1.420500    -0.446073    -0.117845  -0.329807  -0.923325   \n",
      "\n",
      "                 hair  \n",
      "height      -1.420500  \n",
      "weight      -0.446073  \n",
      "muscle_mass -0.117845  \n",
      "body_fat    -0.329807  \n",
      "leglen      -0.923325  \n",
      "hair         0.014205  \n"
     ]
    }
   ],
   "source": [
    "from statistics import variance, stdev\n",
    "import numpy as np \n",
    "import pandas as pd\n",
    "\n",
    "# body.csv 읽어오기 \n",
    "body = pd.read_csv(\"body.csv\")\n",
    "\n",
    "# 공분산\n",
    "cov_body = body.cov()\n",
    "\n",
    "print(cov_body)\n"
   ]
  },
  {
   "cell_type": "markdown",
   "metadata": {},
   "source": [
    "두 수치형 변수의 요약 : 상관계수\n",
    "\n",
    "body.csv 파일에는 한 사람의 20년 신체 기록이 담겨있습니다. 키height, 몸무게 weight, 골격근량 muscle_mass, 체지방량 body_fat , 다리길이 leglen, 모발 hair 이 들어있습니다.\n",
    "\n",
    "산점도에서 본 직관적인 관계가 맞는지 직접 수치로 계산하여 상관계수로 판단해보겠습니다.\n"
   ]
  },
  {
   "cell_type": "markdown",
   "metadata": {},
   "source": [
    "상관계수\n",
    "전체의 상관계수를 계산하여 corr_body 에 저장해보겠습니다.\n",
    "\n",
    "corr_body = body.corr()\n",
    "Copy\n",
    "[실습6] 에서 그려보았던 산점도에서 본 직관적인 관계가 맞는지 직접 수치로 확인해보세요.\n",
    "\n",
    "키와 몸무게의 관계 : 우 상향 직선, 기울기가 양수인 경향의 직선\n",
    "키와 체지방량의 관계 : 우 하향 직선, 기울기가 음수인 경향의 직선\n",
    "키와 다리길이의 관계 : 모든 점이 정확히 기울기가 양수인 직선\n",
    "키와 모발의 관계 : 모든 점이 정확히 기울기가 음수인 직선"
   ]
  },
  {
   "cell_type": "code",
   "execution_count": 29,
   "metadata": {},
   "outputs": [
    {
     "name": "stdout",
     "output_type": "stream",
     "text": [
      "               height    weight  muscle_mass  body_fat    leglen      hair\n",
      "height       1.000000  0.596670     0.156690  0.315368  1.000000 -1.000000\n",
      "weight       0.596670  1.000000     0.218316  0.632993  0.596670 -0.596670\n",
      "muscle_mass  0.156690  0.218316     1.000000 -0.565919  0.156690 -0.156690\n",
      "body_fat     0.315368  0.632993    -0.565919  1.000000  0.315368 -0.315368\n",
      "leglen       1.000000  0.596670     0.156690  0.315368  1.000000 -1.000000\n",
      "hair        -1.000000 -0.596670    -0.156690 -0.315368 -1.000000  1.000000\n"
     ]
    }
   ],
   "source": [
    "from statistics import variance, stdev\n",
    "import numpy as np \n",
    "import pandas as pd\n",
    "\n",
    "# body.csv 읽어오기 \n",
    "body = pd.read_csv(\"body.csv\")\n",
    "\n",
    "# 상관계수 \n",
    "corr_body = body.corr()\n",
    "\n",
    "print(corr_body)\n"
   ]
  }
 ],
 "metadata": {
  "kernelspec": {
   "display_name": "Python 3",
   "language": "python",
   "name": "python3"
  },
  "language_info": {
   "codemirror_mode": {
    "name": "ipython",
    "version": 3
   },
   "file_extension": ".py",
   "mimetype": "text/x-python",
   "name": "python",
   "nbconvert_exporter": "python",
   "pygments_lexer": "ipython3",
   "version": "3.9.17"
  },
  "orig_nbformat": 4
 },
 "nbformat": 4,
 "nbformat_minor": 2
}
